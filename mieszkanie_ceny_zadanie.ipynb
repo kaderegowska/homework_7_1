{
  "nbformat": 4,
  "nbformat_minor": 0,
  "metadata": {
    "colab": {
      "provenance": []
    },
    "kernelspec": {
      "name": "python3",
      "display_name": "Python 3"
    },
    "language_info": {
      "name": "python"
    }
  },
  "cells": [
    {
      "cell_type": "code",
      "execution_count": 3,
      "metadata": {
        "id": "mQnNn-DJynHV"
      },
      "outputs": [],
      "source": [
        "import numpy as np\n",
        "import numpy_financial as npf\n",
        "import matplotlib as plt\n",
        "import matplotlib.pyplot as plt\n"
      ]
    },
    {
      "cell_type": "code",
      "source": [
        "flat_price_now = 120000\n",
        "price_rate = 0.05\n",
        "interest_rate = 0.12\n",
        "years = 5\n",
        "months = years * 12\n",
        "frequency = 12\n",
        "interest_rate_months = interest_rate / 12\n",
        "price_rate_months = price_rate / 12"
      ],
      "metadata": {
        "id": "7X0pyAxWzJDJ"
      },
      "execution_count": 13,
      "outputs": []
    },
    {
      "cell_type": "code",
      "source": [
        "# Obliczam wartość mieszkania za 5 lat"
      ],
      "metadata": {
        "id": "p6gzCAmmz03f"
      },
      "execution_count": null,
      "outputs": []
    },
    {
      "cell_type": "code",
      "source": [
        "periods_year = np.arange(1, years+1, dtype=int)\n",
        "periods_month = np.arange(1, months+1, dtype=int)\n",
        "flat_price_future = np.around(npf.fv(price_rate_months, periods_month, 0, -flat_price_now, when = 'end'), 0)\n",
        "flat_price_in_5_years = flat_price_future[-1]\n",
        "flat_price_in_5_years"
      ],
      "metadata": {
        "colab": {
          "base_uri": "https://localhost:8080/"
        },
        "id": "OZR8jZBtz-Y-",
        "outputId": "6c41ae6b-f94e-4a7e-a787-761b25320808"
      },
      "execution_count": 14,
      "outputs": [
        {
          "output_type": "execute_result",
          "data": {
            "text/plain": [
              "154003.0"
            ]
          },
          "metadata": {},
          "execution_count": 14
        }
      ]
    },
    {
      "cell_type": "code",
      "source": [
        "## Obliczam kwotę, jaką należy wpłacać do banku co miesiąc, aby przez 5 lat uzbierać na mieszkanie"
      ],
      "metadata": {
        "id": "in646Z8B1Ph4"
      },
      "execution_count": null,
      "outputs": []
    },
    {
      "cell_type": "code",
      "source": [
        "periods_month = np.arange(1, months+1, dtype=int)\n",
        "payment = npf.pmt(interest_rate_months, months, 0, fv=flat_price_in_5_years, when='end')\n",
        "payment = abs(payment)\n",
        "payment = round(payment,2)\n",
        "payment"
      ],
      "metadata": {
        "colab": {
          "base_uri": "https://localhost:8080/"
        },
        "id": "oLdkfXm01XFb",
        "outputId": "9d3889c6-a59c-4b21-f895-8ee38da14d80"
      },
      "execution_count": 15,
      "outputs": [
        {
          "output_type": "execute_result",
          "data": {
            "text/plain": [
              "1885.68"
            ]
          },
          "metadata": {},
          "execution_count": 15
        }
      ]
    },
    {
      "cell_type": "code",
      "source": [
        "### Sprawdzam, czy odkładając podaną sumę po 5 latach uzbieram kwotę równą wartości mieszkania"
      ],
      "metadata": {
        "id": "UALukEnC2yIg"
      },
      "execution_count": null,
      "outputs": []
    },
    {
      "cell_type": "code",
      "source": [
        "money_account_in_time = npf.fv(interest_rate_months, periods_month, -payment, 0, when='end')\n",
        "money_account_in_5_years = money_account_in_time[-1]\n",
        "money_account_in_5_years"
      ],
      "metadata": {
        "colab": {
          "base_uri": "https://localhost:8080/"
        },
        "id": "dIyiOIqy27_F",
        "outputId": "650fc7a5-7912-439a-a0c0-9217e3f78319"
      },
      "execution_count": 16,
      "outputs": [
        {
          "output_type": "execute_result",
          "data": {
            "text/plain": [
              "154002.86305483358"
            ]
          },
          "metadata": {},
          "execution_count": 16
        }
      ]
    },
    {
      "cell_type": "code",
      "source": [
        "#### Rysuję wykresy przedstawiające wzrost ceny mieszkania i oszczędności w czasie"
      ],
      "metadata": {
        "id": "g10yKE2Y4Qr-"
      },
      "execution_count": null,
      "outputs": []
    },
    {
      "cell_type": "code",
      "source": [
        "plt.plot(flat_price_future, label=\"cena mieszkania w czasie\")\n",
        "plt.plot(money_account_in_time, label=\"suma oszczędności w czasie\")\n",
        "plt.legend()\n",
        "plt.xlabel(\"Miesiące\")\n",
        "plt.ylabel(\"Kwota w PLN\")"
      ],
      "metadata": {
        "colab": {
          "base_uri": "https://localhost:8080/",
          "height": 299
        },
        "id": "KmZpl80x4ZSa",
        "outputId": "caecfc99-62e0-441a-b5cc-db65b270fa51"
      },
      "execution_count": 17,
      "outputs": [
        {
          "output_type": "execute_result",
          "data": {
            "text/plain": [
              "Text(0, 0.5, 'Kwota w PLN')"
            ]
          },
          "metadata": {},
          "execution_count": 17
        },
        {
          "output_type": "display_data",
          "data": {
            "text/plain": [
              "<Figure size 432x288 with 1 Axes>"
            ],
            "image/png": "[encoded data removed]"
          },
          "metadata": {
            "needs_background": "light"
          }
        }
      ]
    }
  ]
}